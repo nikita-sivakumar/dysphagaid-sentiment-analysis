{
 "cells": [
  {
   "cell_type": "code",
   "execution_count": 1,
   "id": "educational-fusion",
   "metadata": {},
   "outputs": [],
   "source": [
    "import requests\n",
    "from bs4 import BeautifulSoup\n",
    "myBaseUrl = \"https://www.amazon.com/PROVALE-Regulating-Drinking-Cup-5cc/product-reviews/B000NKGGGO/ref=cm_cr_dp_d_show_all_btm?ie=UTF8&reviewerType=all_reviews&pageNumber=\"\n",
    "# for different product change this base url, should end with page number = \n",
    "start_urls = []\n",
    "for i in range(1, 22): # for different product change second number in range to number of review pages + 1\n",
    "    start_urls.append(myBaseUrl + str(i))\n",
    "\n",
    "HEADERS = {\n",
    "    'authority': 'fls-na.amazon.com',\n",
    "'method' : 'GET',\n",
    "'path' : '/1/batch/1/OP/ATVPDKIKX0DER:139-0997389-0276609:NQWXHVBY6MCGZ6ZFM91Q$uedata=s:%2Frd%2Fuedata%3Fat%26v%3D0.215337.0%26id%3DNQWXHVBY6MCGZ6ZFM91Q%26ctb%3D1%26m%3D1%26sc%3DNQWXHVBY6MCGZ6ZFM91Q%26pc%3D1452%26at%3D1452%26t%3D1612360136843%26pty%3DCustomerReviews%26spty%3DremoteProduct%26pti%3DB000NKGGGO%26tid%3DHPZXB0930WXTM9QYEJQV%26aftb%3D1%26ui%3D2:1453',\n",
    "'scheme' : 'https',\n",
    "'accept':'*/*',\n",
    "'user-agent' : 'Mozilla/5.0 (Windows NT 10.0; Win64; x64) AppleWebKit/537.36 (KHTML, like Gecko) Chrome/88.0.4324.104 Safari/537.36'\n",
    "    \n",
    "}\n",
    "response = []\n",
    "for i in start_urls:\n",
    "    response.append(requests.get(i,headers=HEADERS))"
   ]
  },
  {
   "cell_type": "code",
   "execution_count": 2,
   "id": "mysterious-tucson",
   "metadata": {
    "scrolled": true
   },
   "outputs": [
    {
     "name": "stdout",
     "output_type": "stream",
     "text": [
      "[<Response [200]>, <Response [200]>, <Response [200]>, <Response [200]>, <Response [200]>, <Response [200]>, <Response [200]>, <Response [200]>, <Response [200]>, <Response [200]>, <Response [200]>, <Response [200]>, <Response [200]>, <Response [200]>, <Response [200]>]\n"
     ]
    }
   ],
   "source": [
    "print(response) #response 200 means success"
   ]
  },
  {
   "cell_type": "code",
   "execution_count": 3,
   "id": "acting-controversy",
   "metadata": {},
   "outputs": [],
   "source": [
    "#collects soup data\n",
    "soups = []\n",
    "for i in response:\n",
    "    soups.append(BeautifulSoup(i.content))\n",
    "    \n",
    "#collects and cleans review data\n",
    "reviews = []\n",
    "for soup in soups:\n",
    "    review = soup.findAll(\"span\",{'class':\"a-size-base review-text review-text-content\"})\n",
    "    for i in review:\n",
    "        reviews.append(i.text)\n",
    "strippedreviews = []\n",
    "for review in reviews:\n",
    "    strippedreviews.append(review.strip())"
   ]
  },
  {
   "cell_type": "code",
   "execution_count": 4,
   "id": "collectible-vatican",
   "metadata": {},
   "outputs": [],
   "source": [
    "finalstars = []\n",
    "for soup in soups:\n",
    "    star = soup.findAll(attrs = {'data-hook':\"review-star-rating\"})\n",
    "    for i in star: \n",
    "        finalstars.append(i.text)"
   ]
  },
  {
   "cell_type": "code",
   "execution_count": 5,
   "id": "tired-lemon",
   "metadata": {},
   "outputs": [],
   "source": [
    "#collects and cleans title data \n",
    "titles = []\n",
    "for soup in soups:\n",
    "    title = soup.findAll(\"a\",{'class':\"a-size-base a-link-normal review-title a-color-base review-title-content a-text-bold\"})\n",
    "    for i in title:\n",
    "        titles.append(i.text)\n",
    "strippedtitles = []\n",
    "for title in titles:\n",
    "    strippedtitles.append(title.strip())"
   ]
  },
  {
   "cell_type": "code",
   "execution_count": 6,
   "id": "engaged-affect",
   "metadata": {},
   "outputs": [],
   "source": [
    "#creates a csv file with title and review data \n",
    "import pandas as pd    \n",
    "\n",
    "df = pd.DataFrame(strippedtitles, columns=[\"title\"])   \n",
    "df.to_csv('soupprovale.csv', index=False)  #change name of csv file as needed \n",
    "read = pd.read_csv(\"soupprovale.csv\")\n",
    "read[\"review\"] = strippedreviews\n",
    "read.to_csv(\"soupprovale.csv\", index=False)\n",
    "read[\"star\"] = finalstars\n",
    "read.to_csv(\"soupprovale.csv\", index=False)\n",
    "df = pd.read_csv(\"soupprovale.csv\")"
   ]
  },
  {
   "cell_type": "code",
   "execution_count": 7,
   "id": "cosmetic-raise",
   "metadata": {},
   "outputs": [
    {
     "data": {
      "text/html": [
       "<div>\n",
       "<style scoped>\n",
       "    .dataframe tbody tr th:only-of-type {\n",
       "        vertical-align: middle;\n",
       "    }\n",
       "\n",
       "    .dataframe tbody tr th {\n",
       "        vertical-align: top;\n",
       "    }\n",
       "\n",
       "    .dataframe thead th {\n",
       "        text-align: right;\n",
       "    }\n",
       "</style>\n",
       "<table border=\"1\" class=\"dataframe\">\n",
       "  <thead>\n",
       "    <tr style=\"text-align: right;\">\n",
       "      <th></th>\n",
       "      <th>title</th>\n",
       "      <th>review</th>\n",
       "      <th>star</th>\n",
       "      <th>polarity</th>\n",
       "      <th>subjectivity</th>\n",
       "    </tr>\n",
       "  </thead>\n",
       "  <tbody>\n",
       "  </tbody>\n",
       "</table>\n",
       "</div>"
      ],
      "text/plain": [
       "Empty DataFrame\n",
       "Columns: [title, review, star, polarity, subjectivity]\n",
       "Index: []"
      ]
     },
     "execution_count": 7,
     "metadata": {},
     "output_type": "execute_result"
    }
   ],
   "source": [
    "#runs sentiment analysis on collected data in csv file\n",
    "from textblob import TextBlob\n",
    "pol = lambda x: TextBlob(x).sentiment.polarity\n",
    "sub = lambda x: TextBlob(x).sentiment.subjectivity\n",
    "\n",
    "\n",
    "df['polarity'] = df['review'].apply(pol)\n",
    "df['subjectivity'] = df['review'].apply(sub)\n",
    "df"
   ]
  },
  {
   "cell_type": "code",
   "execution_count": 8,
   "id": "loved-rogers",
   "metadata": {},
   "outputs": [
    {
     "data": {
      "image/png": "[encoded data removed]",
      "text/plain": [
       "<Figure size 720x432 with 1 Axes>"
      ]
     },
     "metadata": {
      "needs_background": "light"
     },
     "output_type": "display_data"
    }
   ],
   "source": [
    "import matplotlib.pyplot as plt\n",
    "num_bins = 10\n",
    "plt.figure(figsize=(10,6))\n",
    "n, bins, patches = plt.hist(df.polarity, num_bins, facecolor='blue', alpha=0.5)\n",
    "plt.xlabel('Polarity')\n",
    "plt.ylabel('Number of Reviews')\n",
    "plt.title('Histogram of Polarity Score')\n",
    "plt.show();"
   ]
  },
  {
   "cell_type": "code",
   "execution_count": 9,
   "id": "finished-volunteer",
   "metadata": {},
   "outputs": [
    {
     "name": "stdout",
     "output_type": "stream",
     "text": [
      "Mean of Polarity:  nan\n",
      "Median of Polarity:  nan\n"
     ]
    }
   ],
   "source": [
    "mean1 = df['polarity'].mean()\n",
    "print(\"Mean of Polarity: \", mean1)\n",
    "median1 = df['polarity'].median()\n",
    "print(\"Median of Polarity: \", median1)"
   ]
  },
  {
   "cell_type": "code",
   "execution_count": 10,
   "id": "above-calcium",
   "metadata": {},
   "outputs": [
    {
     "ename": "ValueError",
     "evalue": "We need at least 1 word to plot a word cloud, got 0.",
     "output_type": "error",
     "traceback": [
      "\u001b[1;31m---------------------------------------------------------------------------\u001b[0m",
      "\u001b[1;31mValueError\u001b[0m                                Traceback (most recent call last)",
      "\u001b[1;32m<ipython-input-10-c71519e18606>\u001b[0m in \u001b[0;36m<module>\u001b[1;34m\u001b[0m\n\u001b[0;32m     12\u001b[0m                 \u001b[0mbackground_color\u001b[0m \u001b[1;33m=\u001b[0m\u001b[1;34m'black'\u001b[0m\u001b[1;33m,\u001b[0m\u001b[1;33m\u001b[0m\u001b[1;33m\u001b[0m\u001b[0m\n\u001b[0;32m     13\u001b[0m                 \u001b[0mstopwords\u001b[0m \u001b[1;33m=\u001b[0m \u001b[0mstop_words\u001b[0m\u001b[1;33m,\u001b[0m\u001b[1;33m\u001b[0m\u001b[1;33m\u001b[0m\u001b[0m\n\u001b[1;32m---> 14\u001b[1;33m                 min_font_size = 10).generate(comment_words)\n\u001b[0m\u001b[0;32m     15\u001b[0m \u001b[0mplt\u001b[0m\u001b[1;33m.\u001b[0m\u001b[0mfigure\u001b[0m\u001b[1;33m(\u001b[0m\u001b[0mfigsize\u001b[0m \u001b[1;33m=\u001b[0m \u001b[1;33m(\u001b[0m\u001b[1;36m10\u001b[0m\u001b[1;33m,\u001b[0m \u001b[1;36m10\u001b[0m\u001b[1;33m)\u001b[0m\u001b[1;33m,\u001b[0m \u001b[0mfacecolor\u001b[0m \u001b[1;33m=\u001b[0m \u001b[1;32mNone\u001b[0m\u001b[1;33m)\u001b[0m\u001b[1;33m\u001b[0m\u001b[1;33m\u001b[0m\u001b[0m\n\u001b[0;32m     16\u001b[0m \u001b[0mplt\u001b[0m\u001b[1;33m.\u001b[0m\u001b[0mimshow\u001b[0m\u001b[1;33m(\u001b[0m\u001b[0mfinal_wordcloud\u001b[0m\u001b[1;33m)\u001b[0m\u001b[1;33m\u001b[0m\u001b[1;33m\u001b[0m\u001b[0m\n",
      "\u001b[1;32m~\\AppData\\Roaming\\Python\\Python37\\site-packages\\wordcloud\\wordcloud.py\u001b[0m in \u001b[0;36mgenerate\u001b[1;34m(self, text)\u001b[0m\n\u001b[0;32m    630\u001b[0m         \u001b[0mself\u001b[0m\u001b[1;33m\u001b[0m\u001b[1;33m\u001b[0m\u001b[0m\n\u001b[0;32m    631\u001b[0m         \"\"\"\n\u001b[1;32m--> 632\u001b[1;33m         \u001b[1;32mreturn\u001b[0m \u001b[0mself\u001b[0m\u001b[1;33m.\u001b[0m\u001b[0mgenerate_from_text\u001b[0m\u001b[1;33m(\u001b[0m\u001b[0mtext\u001b[0m\u001b[1;33m)\u001b[0m\u001b[1;33m\u001b[0m\u001b[1;33m\u001b[0m\u001b[0m\n\u001b[0m\u001b[0;32m    633\u001b[0m \u001b[1;33m\u001b[0m\u001b[0m\n\u001b[0;32m    634\u001b[0m     \u001b[1;32mdef\u001b[0m \u001b[0m_check_generated\u001b[0m\u001b[1;33m(\u001b[0m\u001b[0mself\u001b[0m\u001b[1;33m)\u001b[0m\u001b[1;33m:\u001b[0m\u001b[1;33m\u001b[0m\u001b[1;33m\u001b[0m\u001b[0m\n",
      "\u001b[1;32m~\\AppData\\Roaming\\Python\\Python37\\site-packages\\wordcloud\\wordcloud.py\u001b[0m in \u001b[0;36mgenerate_from_text\u001b[1;34m(self, text)\u001b[0m\n\u001b[0;32m    612\u001b[0m         \"\"\"\n\u001b[0;32m    613\u001b[0m         \u001b[0mwords\u001b[0m \u001b[1;33m=\u001b[0m \u001b[0mself\u001b[0m\u001b[1;33m.\u001b[0m\u001b[0mprocess_text\u001b[0m\u001b[1;33m(\u001b[0m\u001b[0mtext\u001b[0m\u001b[1;33m)\u001b[0m\u001b[1;33m\u001b[0m\u001b[1;33m\u001b[0m\u001b[0m\n\u001b[1;32m--> 614\u001b[1;33m         \u001b[0mself\u001b[0m\u001b[1;33m.\u001b[0m\u001b[0mgenerate_from_frequencies\u001b[0m\u001b[1;33m(\u001b[0m\u001b[0mwords\u001b[0m\u001b[1;33m)\u001b[0m\u001b[1;33m\u001b[0m\u001b[1;33m\u001b[0m\u001b[0m\n\u001b[0m\u001b[0;32m    615\u001b[0m         \u001b[1;32mreturn\u001b[0m \u001b[0mself\u001b[0m\u001b[1;33m\u001b[0m\u001b[1;33m\u001b[0m\u001b[0m\n\u001b[0;32m    616\u001b[0m \u001b[1;33m\u001b[0m\u001b[0m\n",
      "\u001b[1;32m~\\AppData\\Roaming\\Python\\Python37\\site-packages\\wordcloud\\wordcloud.py\u001b[0m in \u001b[0;36mgenerate_from_frequencies\u001b[1;34m(self, frequencies, max_font_size)\u001b[0m\n\u001b[0;32m    402\u001b[0m         \u001b[1;32mif\u001b[0m \u001b[0mlen\u001b[0m\u001b[1;33m(\u001b[0m\u001b[0mfrequencies\u001b[0m\u001b[1;33m)\u001b[0m \u001b[1;33m<=\u001b[0m \u001b[1;36m0\u001b[0m\u001b[1;33m:\u001b[0m\u001b[1;33m\u001b[0m\u001b[1;33m\u001b[0m\u001b[0m\n\u001b[0;32m    403\u001b[0m             raise ValueError(\"We need at least 1 word to plot a word cloud, \"\n\u001b[1;32m--> 404\u001b[1;33m                              \"got %d.\" % len(frequencies))\n\u001b[0m\u001b[0;32m    405\u001b[0m         \u001b[0mfrequencies\u001b[0m \u001b[1;33m=\u001b[0m \u001b[0mfrequencies\u001b[0m\u001b[1;33m[\u001b[0m\u001b[1;33m:\u001b[0m\u001b[0mself\u001b[0m\u001b[1;33m.\u001b[0m\u001b[0mmax_words\u001b[0m\u001b[1;33m]\u001b[0m\u001b[1;33m\u001b[0m\u001b[1;33m\u001b[0m\u001b[0m\n\u001b[0;32m    406\u001b[0m \u001b[1;33m\u001b[0m\u001b[0m\n",
      "\u001b[1;31mValueError\u001b[0m: We need at least 1 word to plot a word cloud, got 0."
     ]
    }
   ],
   "source": [
    "\n",
    "from wordcloud import WordCloud, STOPWORDS\n",
    "stop_words = set(STOPWORDS)\n",
    "comment_words = \"\"\n",
    "for i in df.review: \n",
    "    i = str(i) \n",
    "    separate = i.split() \n",
    "    for j in range(len(separate)): \n",
    "        separate[j] = separate[j].lower() \n",
    "      \n",
    "    comment_words += \" \".join(separate)+\" \"\n",
    "final_wordcloud = WordCloud(width = 800, height = 800, \n",
    "                background_color ='black', \n",
    "                stopwords = stop_words, \n",
    "                min_font_size = 10).generate(comment_words)\n",
    "plt.figure(figsize = (10, 10), facecolor = None) \n",
    "plt.imshow(final_wordcloud) \n",
    "plt.axis(\"off\") \n",
    "plt.tight_layout(pad = 0) \n",
    "  \n",
    "plt.show()"
   ]
  },
  {
   "cell_type": "code",
   "execution_count": null,
   "id": "cooperative-spain",
   "metadata": {},
   "outputs": [],
   "source": [
    "import seaborn as sns\n",
    "plt.figure(figsize=(10,5))\n",
    "sns.distplot(df['subjectivity'], hist=True, kde=True, \n",
    "             bins=int(30), color = 'darkblue', \n",
    "             hist_kws={'edgecolor':'black'},\n",
    "             kde_kws={'linewidth': 4})\n",
    "plt.xlim([-0.001,1.001])\n",
    "plt.xlabel('Subjectivity', fontsize=13)\n",
    "plt.ylabel('Frequency', fontsize=13)\n",
    "plt.title('Distribution of Subjectivity Score', fontsize=15)"
   ]
  },
  {
   "cell_type": "code",
   "execution_count": null,
   "id": "yellow-cincinnati",
   "metadata": {},
   "outputs": [],
   "source": []
  }
 ],
 "metadata": {
  "kernelspec": {
   "display_name": "Python 3",
   "language": "python",
   "name": "python3"
  },
  "language_info": {
   "codemirror_mode": {
    "name": "ipython",
    "version": 3
   },
   "file_extension": ".py",
   "mimetype": "text/x-python",
   "name": "python",
   "nbconvert_exporter": "python",
   "pygments_lexer": "ipython3",
   "version": "3.7.9"
  }
 },
 "nbformat": 4,
 "nbformat_minor": 5
}
