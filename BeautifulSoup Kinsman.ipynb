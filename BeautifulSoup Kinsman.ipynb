{
 "cells": [
  {
   "cell_type": "code",
   "execution_count": 1,
   "id": "educational-fusion",
   "metadata": {},
   "outputs": [
    {
     "name": "stdout",
     "output_type": "stream",
     "text": [
      "['https://www.amazon.com/Kinsman-Enterprises-16070-Wedge-Cup/product-reviews/B073WYQ5YR/ref=cm_cr_dp_d_show_all_btm?ie=UTF8&reviewerType=all_reviews&pageNumber=1']\n",
      "[<Response [200]>]\n"
     ]
    }
   ],
   "source": [
    "import requests\n",
    "from bs4 import BeautifulSoup\n",
    "myBaseUrl = \"https://www.amazon.com/Kinsman-Enterprises-16070-Wedge-Cup/product-reviews/B073WYQ5YR/ref=cm_cr_dp_d_show_all_btm?ie=UTF8&reviewerType=all_reviews&pageNumber=\"\n",
    "# for different product change this base url, should end with page number = \n",
    "start_urls = []\n",
    "for i in range(1, 2): # for different product change second number in range to number of review pages + 1\n",
    "    start_urls.append(myBaseUrl + str(i))\n",
    "print(start_urls)\n",
    "HEADERS = {\n",
    "    'authority': 'www.amazon.com',\n",
    "'method' : 'POST',\n",
    "'path' : '/gp/redirection/uae.html',\n",
    "'scheme' : 'https',\n",
    "'accept':'*/*',\n",
    "'user-agent' : 'Mozilla/5.0 (Windows NT 10.0; Win64; x64) AppleWebKit/537.36 (KHTML, like Gecko) Chrome/88.0.4324.104 Safari/537.36'\n",
    "    \n",
    "}\n",
    "response = []\n",
    "for i in start_urls:\n",
    "    response.append(requests.get(i,headers=HEADERS))\n",
    "print(response)"
   ]
  },
  {
   "cell_type": "code",
   "execution_count": 2,
   "id": "mysterious-tucson",
   "metadata": {},
   "outputs": [
    {
     "name": "stdout",
     "output_type": "stream",
     "text": [
      "\n",
      "\n",
      "  I was looking for a device to control the amount of liquid dispensed in a \"sip.\" This cup does not work that way. The full amount of liquid in the cup could be dispensed in one sip even though you could make it flow faster or slower. Doesn't work for my needs - a person who puts as much as she can possibly hold in her mouth and then can't swallow it. I chose this cup over some marked \"disphagia\" cup as those dispensed only 1 or 2 teaspoons of liquid - not enough. This $40 cup is worth at most a couple of dollars. It is cheap plastic. The lid didn't fit securely and could be easily removed by a \"curious\" person. The tab which controlled the flow could not be secured properly. It felt and looked like something you would get at the dollar store. Don't waste your money.\n",
      "\n",
      "\n",
      "\n",
      "\n",
      "  I work as a speech-language pathologist with adults with developmental disabilities. This cup didn't work because the plastic material cracked when the individual dropped it. This kind of plastic is not appropriate due to lack of durability. Disabled adults often have motor and coordination problems, and thus this product needs to be made of a different material. It also didn't work well with thin liquids and was difficult to adjust to appropriate settings. It is a great idea, and I was hopeful that this would be just the right therapeutic cup for this individual. Unfortunately, it wasn't. I hope I can get a reimbursement for this.\n",
      "\n",
      "\n",
      "\n",
      "\n",
      "  Bought for my wife who has a motor disease, which is really what this is intended for. I had a question and submitted it to the manufacturer on their website but never got an answer. I bought it anyway because I will do anything for my wife. It really does not work for her but certainly could for others. I think it's way overpriced, it would be an excellent cup at $10, at $50 it's overpriced.\n",
      "\n",
      "\n",
      "\n",
      "\n",
      "  Worked as intended\n",
      "\n",
      "\n",
      "\n",
      "\n",
      "  Very Pricey, but can't find anything that works as well as this cup for honey thick liquids.  Also all gives independence of being able to drink alone rather than someone having to spoon the drinks.\n",
      "\n",
      "\n",
      "\n",
      "\n",
      "  Fast delivery..exactly what I needed\n",
      "\n",
      "\n",
      "\n",
      "\n",
      "  These work well for people with swallowing difficulties BUT are not well made.  The outside of the cup cracks/breaks beyond use pretty easily and then you're stuck with a useless $40 cup.  I have contacted the manufacturer to see about a replacement piece but have not heard back.\n",
      "\n",
      "\n",
      "\n",
      "\n",
      "  This cup have given my mother the independence she needs. It functions great but It is not very durable.  It claims to be dishwasher safe but the lid will get ruin in the dishwasher.  It will shrink.  The cup is very fragile. It breaks easy.  Very expensive and should be made from quality materials.  I just ordered three more after the dishwasher disaster. I have spent a total of $260 in less than two months.  I recommend caution with hot liquids and the dishwasher. Otherwise it is a great product for those who need it.\n",
      "\n",
      "\n",
      "\n",
      "\n",
      "  Did not work as well as expected.  Too difficult getting a drink - have to hold head back to get a drink.\n",
      "\n",
      "\n",
      "\n",
      "\n",
      "  These cups are perfect for what we are using them for.\n",
      "\n",
      "\n"
     ]
    }
   ],
   "source": [
    "soup = []\n",
    "for i in response:\n",
    "    soup.append(BeautifulSoup(i.content))\n",
    "review = []\n",
    "for i in soup:\n",
    "    review.append(i.findAll(\"span\",{'class':\"a-size-base review-text review-text-content\"}))\n",
    "for i in review:\n",
    "    for j in i:\n",
    "        print(j.text)"
   ]
  },
  {
   "cell_type": "code",
   "execution_count": 3,
   "id": "tired-lemon",
   "metadata": {},
   "outputs": [
    {
     "name": "stdout",
     "output_type": "stream",
     "text": [
      "\n",
      "Don't waste your money!\n",
      "\n",
      "\n",
      "It is a great idea, and I was hopeful that this would ...\n",
      "\n",
      "\n",
      "Works but not for all. Mfg unresponsive.\n",
      "\n",
      "\n",
      "Wedge cup\n",
      "\n",
      "\n",
      "Works great!\n",
      "\n",
      "\n",
      "Five Stars\n",
      "\n",
      "\n",
      "Works well, not well made\n",
      "\n",
      "\n",
      "Very functional but poor material\n",
      "\n",
      "\n",
      "Did not work as well as expected. Too difficult ...\n",
      "\n",
      "\n",
      "Five Stars\n",
      "\n"
     ]
    }
   ],
   "source": [
    "titles = []\n",
    "for soupnum in soup:\n",
    "    title = soupnum.findAll(\"a\",{'class':\"a-size-base a-link-normal review-title a-color-base review-title-content a-text-bold\"})\n",
    "    for i in title:\n",
    "        print(i.text)"
   ]
  },
  {
   "cell_type": "code",
   "execution_count": 4,
   "id": "engaged-affect",
   "metadata": {},
   "outputs": [
    {
     "name": "stdout",
     "output_type": "stream",
     "text": [
      "Product Rating = 3.7 out of 5 stars\n",
      "Number of Product Reviews = 14 ratings\n"
     ]
    }
   ],
   "source": [
    "def get_rating(soup):\n",
    " \n",
    "    try:\n",
    "        rating = soup.find(\"i\", attrs={'class':'a-icon a-icon-star a-star-4-5'}).string.strip()\n",
    "         \n",
    "    except AttributeError:\n",
    "         \n",
    "        try:\n",
    "            rating = soup.find(\"span\", attrs={'class':'a-icon-alt'}).string.strip()\n",
    "        except:\n",
    "            rating = \"\" \n",
    " \n",
    "    return rating\n",
    "def get_review_count(soup):\n",
    "    try:\n",
    "        review_count = soup.find(\"span\", attrs={'id':'acrCustomerReviewText'}).string.strip()\n",
    "         \n",
    "    except AttributeError:\n",
    "        review_count = \"\"   \n",
    " \n",
    "    return review_count\n",
    "HEADERS = {\n",
    "    'authority': 'www.amazon.com',\n",
    "'method' : 'POST',\n",
    "'path' : '/gp/redirection/uae.html',\n",
    "'scheme' : 'https',\n",
    "'accept':'*/*',\n",
    "'user-agent' : 'Mozilla/5.0 (Windows NT 10.0; Win64; x64) AppleWebKit/537.36 (KHTML, like Gecko) Chrome/88.0.4324.104 Safari/537.36'\n",
    "  \n",
    "}\n",
    " \n",
    "    # The webpage URL\n",
    "URL = \"https://www.amazon.com/Kinsman-Enterprises-16070-Wedge-Cup/dp/B073WYQ5YR/\"\n",
    " \n",
    "    # HTTP Request\n",
    "webpage = requests.get(URL, headers=HEADERS)\n",
    " \n",
    "    # Soup Object containing all data\n",
    "soup = BeautifulSoup(webpage.content, \"lxml\")\n",
    "print(\"Product Rating =\", get_rating(soup))\n",
    "print(\"Number of Product Reviews =\", get_review_count(soup))"
   ]
  },
  {
   "cell_type": "code",
   "execution_count": null,
   "id": "cosmetic-raise",
   "metadata": {},
   "outputs": [],
   "source": []
  }
 ],
 "metadata": {
  "kernelspec": {
   "display_name": "Python 3",
   "language": "python",
   "name": "python3"
  },
  "language_info": {
   "codemirror_mode": {
    "name": "ipython",
    "version": 3
   },
   "file_extension": ".py",
   "mimetype": "text/x-python",
   "name": "python",
   "nbconvert_exporter": "python",
   "pygments_lexer": "ipython3",
   "version": "3.7.9"
  }
 },
 "nbformat": 4,
 "nbformat_minor": 5
}
