from sklearn.feature_extraction.text import TfidfVectorizer
from sklearn.cluster import KMeans

vectorizer = TfidfVectorizer(stop_words='english')
X = vectorizer.fit_transform(df["review"])

inertia=[]
for k in range(2,126):
    kmeans = KMeans(n_clusters=k, random_state=0, n_init=25).fit(X)
    inertia.append(kmeans.inertia_)

plt.plot(range (2,126),inertia)

test_k = 5
kmeans = KMeans(n_clusters=test_k, random_state=0,n_init=25).fit(X)
order_centroids = kmeans.cluster_centers_.argsort()[:, ::-1]
terms = vectorizer.get_feature_names()

for i in range(test_k):
    print("Cluster")
    print(i)
    for ind in order_centroids[i, :10]:
        print(terms[ind])

for i in X:
    print(vectorizer.inverse_transform(i))
    print(kmeans.predict(i))
