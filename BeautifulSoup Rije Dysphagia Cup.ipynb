{
 "cells": [
  {
   "cell_type": "code",
   "execution_count": 2,
   "id": "educational-fusion",
   "metadata": {},
   "outputs": [
    {
     "name": "stdout",
     "output_type": "stream",
     "text": [
      "['https://www.amazon.com/Sammons-Preston-Dysphagia-Controlled-Dishwasher/product-reviews/B0754J8CNJ/ref=cm_cr_dp_d_show_all_btm?ie=UTF8&reviewerType=all_reviews&pageNumber=1']\n",
      "[<Response [200]>]\n"
     ]
    }
   ],
   "source": [
    "import requests\n",
    "from bs4 import BeautifulSoup\n",
    "myBaseUrl = \"https://www.amazon.com/Sammons-Preston-Dysphagia-Controlled-Dishwasher/product-reviews/B0754J8CNJ/ref=cm_cr_dp_d_show_all_btm?ie=UTF8&reviewerType=all_reviews&pageNumber=\"\n",
    "# for different product change this base url, should end with page number = \n",
    "start_urls = []\n",
    "for i in range(1, 2): # for different product change second number in range to number of review pages + 1\n",
    "    start_urls.append(myBaseUrl + str(i))\n",
    "print(start_urls)\n",
    "HEADERS = {\n",
    "    'authority': 'www.amazon.com',\n",
    "'method' : 'GET',\n",
    "'path' : '/rd/uedata?ld&v=0.215337.0&id=63S62AF5VNJJ4NDF32HD&sw=1536&sh=864&vw=779&vh=738&m=1&sc=63S62AF5VNJJ4NDF32HD&ue=1&bb=100&ns=106&ne=203&af=217&cf=247&be=302&fp=120&fcp=120&pc=735&tc=-183&na_=-183&ul_=-55&_ul=-54&rd_=-1612361183497&_rd=-1612361183497&fe_=-181&lk_=-181&_lk=-181&co_=-181&_co=-181&sc_=-1612361183497&rq_=-175&rs_=-95&_rs=87&dl_=-46&di_=312&de_=313&_de=313&_dc=735&ld_=735&_ld=-1612361183497&ntd=0&ty=1&rc=0&hob=1&hoe=2&ld=735&t=1612361184232&ctb=1&rt=cf:13-1-0-4-2-13-1_af:13-1-0-4-2-13-1_ld:30-7-0-9-4-22-0&csmtags=aui|aui:aui_build_date:3.20.8-2021-01-27|ewc:unpersist|ewc:unpersist:emptycart|ewc:bview|ewc|ewc:prime|ewc:cartsize:0|ewc:aui|navbar|fls-na-amazon-com|adblk_no|csm-feature-touch-enabled:false|adRender:CustomerReviews:right-ad-1:Product|adRender:d5a09d1b-62af-4f33-a96a-d339a8e84d93|adRender:CustomerReviews:right-ad-1:Product:creativeid:16983469601|adRender:d5a09d1b-62af-4f33-a96a-d339a8e84d93:creativeid:16983469601|adRender:CustomerReviews:right-ad-1:Product:programid:1002|adRender:d5a09d1b-62af-4f33-a96a-d339a8e84d93:programid:1002|adRender:CustomerReviews:right-ad-1:Product:creativetemplatename:image|adRender:d5a09d1b-62af-4f33-a96a-d339a8e84d93:creativetemplatename:image|iss-on-time&viz=visible:1&pty=CustomerReviews&spty=remoteProduct&pti=B0754J8CNJ&tid=HPZXB0930WXTM9QYEJQV&aftb=1&ui=2',\n",
    "'scheme' : 'https',\n",
    "'accept':'*/*',\n",
    "'user-agent' : 'Mozilla/5.0 (Windows NT 10.0; Win64; x64) AppleWebKit/537.36 (KHTML, like Gecko) Chrome/88.0.4324.104 Safari/537.36'\n",
    "    \n",
    "}\n",
    "response = []\n",
    "for i in start_urls:\n",
    "    response.append(requests.get(i,headers=HEADERS))\n",
    "print(response)"
   ]
  },
  {
   "cell_type": "code",
   "execution_count": 3,
   "id": "mysterious-tucson",
   "metadata": {},
   "outputs": [
    {
     "name": "stdout",
     "output_type": "stream",
     "text": [
      "\n",
      "\n",
      "  We had to help my Aunt drink all liquids with a teaspoon...this cup allowed us to dial the amount of liquid, allowed for HOT liquids and SHE could hold the cup via either one or both handles.  That allowed her a small bit of  independence!\n",
      "\n",
      "\n",
      "\n",
      "\n",
      "  Wife has dysphagia problems and this device measures an amount of fluid that she can tolerate without chocking.  The plugs allow for various liquid thickness, which is important if thickener is needed.  I am happy I found this device and I recommend it.  My wife can not drink from it and has to use a straw.  I taped the straw to the cup and she can use it with no difficulty.\n",
      "\n",
      "\n",
      "\n",
      "\n",
      "  This cup has a small hole on the bottom and it leaks. I have to Pay to ship this defective cup back to them to get another, no thank you. Way Too Expensive for a cup that leaks!!!!\n",
      "\n",
      "\n",
      "\n",
      "\n",
      "  This is only good for someone in terrible condition.  It holds a very small amount of liquid.  My husband has a choking neurological disorder and he still needs liquid.  You would need to replenish this every few minutes.\n",
      "\n",
      "\n",
      "\n",
      "\n",
      "  It works wonderfully for my granddaughter who has swallowing difficulty.  Highly recommend it! Wish we had ordered it years ago!\n",
      "\n",
      "\n",
      "\n",
      "\n",
      "  Never could get it to work properly. Returned it.\n",
      "\n",
      "\n"
     ]
    }
   ],
   "source": [
    "soup = []\n",
    "for i in response:\n",
    "    soup.append(BeautifulSoup(i.content))\n",
    "review = []\n",
    "for i in soup:\n",
    "    review.append(i.findAll(\"span\",{'class':\"a-size-base review-text review-text-content\"}))\n",
    "for i in review:\n",
    "    for j in i:\n",
    "        print(j.text)"
   ]
  },
  {
   "cell_type": "code",
   "execution_count": 4,
   "id": "tired-lemon",
   "metadata": {},
   "outputs": [
    {
     "name": "stdout",
     "output_type": "stream",
     "text": [
      "\n",
      "Helped make it safer to drink.\n",
      "\n",
      "\n",
      "Works as advertised\n",
      "\n",
      "\n",
      "Leaks!!!\n",
      "\n",
      "\n",
      "Holds only a few ounces of liquid\n",
      "\n",
      "\n",
      "Life changer!\n",
      "\n",
      "\n",
      "One Star\n",
      "\n"
     ]
    }
   ],
   "source": [
    "titles = []\n",
    "for soupnum in soup:\n",
    "    title = soupnum.findAll(\"a\",{'class':\"a-size-base a-link-normal review-title a-color-base review-title-content a-text-bold\"})\n",
    "    for i in title:\n",
    "        print(i.text)"
   ]
  },
  {
   "cell_type": "code",
   "execution_count": 5,
   "id": "engaged-affect",
   "metadata": {},
   "outputs": [
    {
     "name": "stdout",
     "output_type": "stream",
     "text": [
      "Product Rating = 3.5 out of 5 stars\n",
      "Number of Product Reviews = 20 ratings\n"
     ]
    }
   ],
   "source": [
    "def get_rating(soup):\n",
    " \n",
    "    try:\n",
    "        rating = soup.find(\"i\", attrs={'class':'a-icon a-icon-star a-star-4-5'}).string.strip()\n",
    "         \n",
    "    except AttributeError:\n",
    "         \n",
    "        try:\n",
    "            rating = soup.find(\"span\", attrs={'class':'a-icon-alt'}).string.strip()\n",
    "        except:\n",
    "            rating = \"\" \n",
    " \n",
    "    return rating\n",
    "def get_review_count(soup):\n",
    "    try:\n",
    "        review_count = soup.find(\"span\", attrs={'id':'acrCustomerReviewText'}).string.strip()\n",
    "         \n",
    "    except AttributeError:\n",
    "        review_count = \"\"   \n",
    " \n",
    "    return review_count\n",
    "HEADERS = {\n",
    "    'authority': 'www.amazon.com',\n",
    "'method' : 'GET',\n",
    "'path' : '/rd/uedata?ld&v=0.215337.0&id=63S62AF5VNJJ4NDF32HD&sw=1536&sh=864&vw=779&vh=738&m=1&sc=63S62AF5VNJJ4NDF32HD&ue=1&bb=100&ns=106&ne=203&af=217&cf=247&be=302&fp=120&fcp=120&pc=735&tc=-183&na_=-183&ul_=-55&_ul=-54&rd_=-1612361183497&_rd=-1612361183497&fe_=-181&lk_=-181&_lk=-181&co_=-181&_co=-181&sc_=-1612361183497&rq_=-175&rs_=-95&_rs=87&dl_=-46&di_=312&de_=313&_de=313&_dc=735&ld_=735&_ld=-1612361183497&ntd=0&ty=1&rc=0&hob=1&hoe=2&ld=735&t=1612361184232&ctb=1&rt=cf:13-1-0-4-2-13-1_af:13-1-0-4-2-13-1_ld:30-7-0-9-4-22-0&csmtags=aui|aui:aui_build_date:3.20.8-2021-01-27|ewc:unpersist|ewc:unpersist:emptycart|ewc:bview|ewc|ewc:prime|ewc:cartsize:0|ewc:aui|navbar|fls-na-amazon-com|adblk_no|csm-feature-touch-enabled:false|adRender:CustomerReviews:right-ad-1:Product|adRender:d5a09d1b-62af-4f33-a96a-d339a8e84d93|adRender:CustomerReviews:right-ad-1:Product:creativeid:16983469601|adRender:d5a09d1b-62af-4f33-a96a-d339a8e84d93:creativeid:16983469601|adRender:CustomerReviews:right-ad-1:Product:programid:1002|adRender:d5a09d1b-62af-4f33-a96a-d339a8e84d93:programid:1002|adRender:CustomerReviews:right-ad-1:Product:creativetemplatename:image|adRender:d5a09d1b-62af-4f33-a96a-d339a8e84d93:creativetemplatename:image|iss-on-time&viz=visible:1&pty=CustomerReviews&spty=remoteProduct&pti=B0754J8CNJ&tid=HPZXB0930WXTM9QYEJQV&aftb=1&ui=2',\n",
    "'scheme' : 'https',\n",
    "'accept':'*/*',\n",
    "'user-agent' : 'Mozilla/5.0 (Windows NT 10.0; Win64; x64) AppleWebKit/537.36 (KHTML, like Gecko) Chrome/88.0.4324.104 Safari/537.36'\n",
    "    \n",
    "}\n",
    " \n",
    "    # The webpage URL\n",
    "URL = \"https://www.amazon.com/Sammons-Preston-Dysphagia-Controlled-Dishwasher/dp/B0754J8CNJ\"\n",
    " \n",
    "    # HTTP Request\n",
    "webpage = requests.get(URL, headers=HEADERS)\n",
    " \n",
    "    # Soup Object containing all data\n",
    "soup = BeautifulSoup(webpage.content, \"lxml\")\n",
    "print(\"Product Rating =\", get_rating(soup))\n",
    "print(\"Number of Product Reviews =\", get_review_count(soup))"
   ]
  },
  {
   "cell_type": "code",
   "execution_count": null,
   "id": "cosmetic-raise",
   "metadata": {},
   "outputs": [],
   "source": []
  }
 ],
 "metadata": {
  "kernelspec": {
   "display_name": "Python 3",
   "language": "python",
   "name": "python3"
  },
  "language_info": {
   "codemirror_mode": {
    "name": "ipython",
    "version": 3
   },
   "file_extension": ".py",
   "mimetype": "text/x-python",
   "name": "python",
   "nbconvert_exporter": "python",
   "pygments_lexer": "ipython3",
   "version": "3.7.9"
  }
 },
 "nbformat": 4,
 "nbformat_minor": 5
}
