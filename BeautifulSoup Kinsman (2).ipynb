{
 "cells": [
  {
   "cell_type": "code",
   "execution_count": 1,
   "id": "educational-fusion",
   "metadata": {
    "scrolled": true
   },
   "outputs": [
    {
     "name": "stdout",
     "output_type": "stream",
     "text": [
      "['https://www.amazon.com/Kinsman-Enterprises-16070-Wedge-Cup/product-reviews/B073WYQ5YR/ref=cm_cr_dp_d_show_all_btm?ie=UTF8&reviewerType=all_reviews&pageNumber=1']\n",
      "[<Response [200]>]\n"
     ]
    }
   ],
   "source": [
    "import requests\n",
    "from bs4 import BeautifulSoup\n",
    "myBaseUrl = \"https://www.amazon.com/Kinsman-Enterprises-16070-Wedge-Cup/product-reviews/B073WYQ5YR/ref=cm_cr_dp_d_show_all_btm?ie=UTF8&reviewerType=all_reviews&pageNumber=\"\n",
    "# for different product change this base url, should end with page number = \n",
    "start_urls = []\n",
    "for i in range(1, 2): # for different product change second number in range to number of review pages + 1\n",
    "    start_urls.append(myBaseUrl + str(i))\n",
    "print(start_urls)\n",
    "HEADERS = {\n",
    "    'authority': 'www.amazon.com',\n",
    "'method' : 'POST',\n",
    "'path' : '/gp/redirection/uae.html',\n",
    "'scheme' : 'https',\n",
    "'accept':'*/*',\n",
    "'user-agent' : 'Mozilla/5.0 (Windows NT 10.0; Win64; x64) AppleWebKit/537.36 (KHTML, like Gecko) Chrome/88.0.4324.104 Safari/537.36'\n",
    "    \n",
    "}\n",
    "response = []\n",
    "for i in start_urls:\n",
    "    response.append(requests.get(i,headers=HEADERS))\n",
    "print(response)"
   ]
  },
  {
   "cell_type": "code",
   "execution_count": 2,
   "id": "mysterious-tucson",
   "metadata": {},
   "outputs": [],
   "source": [
    "soup = []\n",
    "for i in response:\n",
    "    soup.append(BeautifulSoup(i.content))\n",
    "review = []\n",
    "for i in soup:\n",
    "    review.append(i.findAll(\"span\",{'class':\"a-size-base review-text review-text-content\"}))\n",
    "for i in review:\n",
    "    for j in i:\n",
    "        print(j.text)"
   ]
  },
  {
   "cell_type": "code",
   "execution_count": 8,
   "id": "tired-lemon",
   "metadata": {},
   "outputs": [],
   "source": [
    "\n",
    "titles = []\n",
    "for soupnum in soup:\n",
    "    title = soupnum.findAll(\"a\",{'class':\"a-size-base a-link-normal review-title a-color-base review-title-content a-text-bold\"})\n",
    "    for i in title:\n",
    "        print(i.text)"
   ]
  },
  {
   "cell_type": "code",
   "execution_count": 9,
   "id": "brown-latino",
   "metadata": {},
   "outputs": [],
   "source": [
    "avg_rating = 3.7 \n",
    "stars = []\n",
    "for soup in soups:\n",
    "    star = soup.findAll(\"span\",{'class':\"a-icon-alt\"})\n",
    "    for i in star: \n",
    "        stars.append(i.text)\n",
    "strippedstars = [] #this list still contains the stars from the avg. rating, top positive review, and top negative review\n",
    "for star in stars:\n",
    "    strippedstars.append(star.strip()) \n",
    "\n",
    "finalstars = []\n",
    "indexofavg_rating = 0; \n",
    "for i in range(len(strippedstars)):\n",
    "    if str(avg_rating) in strippedstars[i]:\n",
    "        indexofavg_rating = i\n",
    "    elif i != indexofavg_rating:\n",
    "        if i != indexofavg_rating + 1:\n",
    "            if i != indexofavg_rating + 2:\n",
    "                finalstars.append(strippedstars[i])"
   ]
  },
  {
   "cell_type": "code",
   "execution_count": 10,
   "id": "cosmetic-raise",
   "metadata": {},
   "outputs": [],
   "source": [
    "import pandas as pd    \n",
    "\n",
    "df = pd.DataFrame(strippedtitles, columns=[\"title\"])   \n",
    "df.to_csv('soupkinsman.csv', index=False)  #change name of csv file as needed \n",
    "read = pd.read_csv(\"soupkinsman.csv\")\n",
    "read[\"review\"] = strippedreviews\n",
    "read.to_csv(\"soupkinsman.csv\", index=False)\n",
    "read[\"star\"] = finalstars\n",
    "read.to_csv(\"soupsafestrawthin.csv\", index=False)\n",
    "df = pd.read_csv(\"soupkinsman.csv\")"
   ]
  },
  {
   "cell_type": "code",
   "execution_count": 11,
   "id": "affected-stranger",
   "metadata": {},
   "outputs": [
    {
     "data": {
      "text/html": [
       "<div>\n",
       "<style scoped>\n",
       "    .dataframe tbody tr th:only-of-type {\n",
       "        vertical-align: middle;\n",
       "    }\n",
       "\n",
       "    .dataframe tbody tr th {\n",
       "        vertical-align: top;\n",
       "    }\n",
       "\n",
       "    .dataframe thead th {\n",
       "        text-align: right;\n",
       "    }\n",
       "</style>\n",
       "<table border=\"1\" class=\"dataframe\">\n",
       "  <thead>\n",
       "    <tr style=\"text-align: right;\">\n",
       "      <th></th>\n",
       "      <th>title</th>\n",
       "      <th>review</th>\n",
       "      <th>polarity</th>\n",
       "      <th>subjectivity</th>\n",
       "    </tr>\n",
       "  </thead>\n",
       "  <tbody>\n",
       "  </tbody>\n",
       "</table>\n",
       "</div>"
      ],
      "text/plain": [
       "Empty DataFrame\n",
       "Columns: [title, review, polarity, subjectivity]\n",
       "Index: []"
      ]
     },
     "execution_count": 11,
     "metadata": {},
     "output_type": "execute_result"
    }
   ],
   "source": [
    "from textblob import TextBlob\n",
    "pol = lambda x: TextBlob(x).sentiment.polarity\n",
    "sub = lambda x: TextBlob(x).sentiment.subjectivity\n",
    "df['polarity'] = df['review'].apply(pol)\n",
    "df['subjectivity'] = df['review'].apply(sub)\n",
    "df"
   ]
  },
  {
   "cell_type": "code",
   "execution_count": null,
   "id": "described-garden",
   "metadata": {},
   "outputs": [],
   "source": []
  }
 ],
 "metadata": {
  "kernelspec": {
   "display_name": "Python 3",
   "language": "python",
   "name": "python3"
  },
  "language_info": {
   "codemirror_mode": {
    "name": "ipython",
    "version": 3
   },
   "file_extension": ".py",
   "mimetype": "text/x-python",
   "name": "python",
   "nbconvert_exporter": "python",
   "pygments_lexer": "ipython3",
   "version": "3.7.9"
  }
 },
 "nbformat": 4,
 "nbformat_minor": 5
}
