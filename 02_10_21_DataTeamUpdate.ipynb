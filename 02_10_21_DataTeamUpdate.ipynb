{
 "cells": [
  {
   "cell_type": "code",
   "execution_count": 1,
   "metadata": {},
   "outputs": [],
   "source": [
    "import pandas as pd\n",
    "import numpy as np\n",
    "import os"
   ]
  },
  {
   "cell_type": "code",
   "execution_count": 22,
   "metadata": {},
   "outputs": [
    {
     "name": "stdout",
     "output_type": "stream",
     "text": [
      "                                              title  \\\n",
      "0  Not style pictured, handles made for baby hands.   \n",
      "1                               Not made for adults   \n",
      "2        Hot Liquids Take on a Strong Plastic Taste   \n",
      "3                                    WASTE OF MONEY   \n",
      "4                                           Useless   \n",
      "\n",
      "                                              review                star  \\\n",
      "0  I also received the cup with the tiny handles ...  1.0 out of 5 stars   \n",
      "1  This cup is being sold as an Adult cup, it is ...  1.0 out of 5 stars   \n",
      "2  This cup is fine for cold liquids, but if you ...  2.0 out of 5 stars   \n",
      "3  After reading the reviews, only a handful rece...  1.0 out of 5 stars   \n",
      "4  This was definitely designed as a kids sippy c...  1.0 out of 5 stars   \n",
      "\n",
      "           Product  \n",
      "0  soupsammons.csv  \n",
      "1  soupsammons.csv  \n",
      "2  soupsammons.csv  \n",
      "3  soupsammons.csv  \n",
      "4  soupsammons.csv  \n",
      "                                               title  \\\n",
      "0  This is an amazing product for people that hav...   \n",
      "1                                         Works well   \n",
      "2                                       Super straw!   \n",
      "3                                       Easy to lose   \n",
      "4                                    Waste of money!   \n",
      "\n",
      "                                              review                star  \\\n",
      "0  This product has been a dysphagia lifesaver!  ...  5.0 out of 5 stars   \n",
      "1  This straw made life so much better for my pat...  5.0 out of 5 stars   \n",
      "2  This is a great item and a godsend for my elde...  5.0 out of 5 stars   \n",
      "3                      Hard  to wash.  Easy to lose.  3.0 out of 5 stars   \n",
      "4  These don't work well at all! I don't recommen...  1.0 out of 5 stars   \n",
      "\n",
      "                  Product  \n",
      "0  soupsafestrawthick.csv  \n",
      "1  soupsafestrawthick.csv  \n",
      "2  soupsafestrawthick.csv  \n",
      "3  soupsafestrawthick.csv  \n",
      "4  soupsafestrawthick.csv  \n",
      "                                               title  \\\n",
      "0                     Get rid of thickened liquids!!   \n",
      "1  Nurses at our hospital came to see how this wo...   \n",
      "2                              DO YOU WANT TO CHOKE?   \n",
      "3  Worked great for a couple of weeks for my daug...   \n",
      "4  Provides small sip to help with swallowing and...   \n",
      "\n",
      "                                              review                star  \\\n",
      "0  The SafeStaw is almost a miracle. After a stro...  5.0 out of 5 stars   \n",
      "1  My wife is swalling problems and we needed to ...  5.0 out of 5 stars   \n",
      "2  BOUGH THIS DEVICE FOR DYSPHAGIA, BUT MAKES ME ...  1.0 out of 5 stars   \n",
      "3  Worked great for a couple of weeks for my daug...  5.0 out of 5 stars   \n",
      "4     Great product! Follow directions and out works  5.0 out of 5 stars   \n",
      "\n",
      "                 Product  \n",
      "0  soupsafestrawthin.csv  \n",
      "1  soupsafestrawthin.csv  \n",
      "2  soupsafestrawthin.csv  \n",
      "3  soupsafestrawthin.csv  \n",
      "4  soupsafestrawthin.csv  \n",
      "                                   title  \\\n",
      "0               This cup is a lifesaver.   \n",
      "1  Nice concept, but lacking in function   \n",
      "2                                   Safe   \n",
      "3          Ease of handling, drink from.   \n",
      "4                      Not as advertised   \n",
      "\n",
      "                                              review                star  \\\n",
      "0  Excellent produce!My mother (87 yrs old) is in...  5.0 out of 5 stars   \n",
      "1  It works as long as you have a good sized coff...  5.0 out of 5 stars   \n",
      "2  Excellent for dementia individuals who have ch...  5.0 out of 5 stars   \n",
      "3  Purchased for Alzheimer’s patient with difficu...  4.0 out of 5 stars   \n",
      "4  Would love to give this no stars!NOT LEAK PROO...  1.0 out of 5 stars   \n",
      "\n",
      "           Product  \n",
      "0  soupkirimon.csv  \n",
      "1  soupkirimon.csv  \n",
      "2  soupkirimon.csv  \n",
      "3  soupkirimon.csv  \n",
      "4  soupkirimon.csv  \n",
      "                                               title  \\\n",
      "0                  Overpriced but works as described   \n",
      "1  The Provale Cup dispenses 1 Tbsp of un-thicken...   \n",
      "2  A truly amazing cup to assist my husband in sw...   \n",
      "3                                         Overpriced   \n",
      "4                Does Amazon want to keep customers?   \n",
      "\n",
      "                                              review                star  \\\n",
      "0  I Initially gave this cup 1 star because it le...  3.0 out of 5 stars   \n",
      "1  After my husband's series of seizures it left ...  5.0 out of 5 stars   \n",
      "2  A truly amazing cup to assist my husband in sw...  5.0 out of 5 stars   \n",
      "3  This cup is overpriced considering the fact th...  2.0 out of 5 stars   \n",
      "4  Unfortunately these cups were flawed in that t...  3.0 out of 5 stars   \n",
      "\n",
      "           Product  \n",
      "0  soupprovale.csv  \n",
      "1  soupprovale.csv  \n",
      "2  soupprovale.csv  \n",
      "3  soupprovale.csv  \n",
      "4  soupprovale.csv  \n",
      "                                      title  \\\n",
      "0               It is great for me overall!   \n",
      "1               Easy straws for the elderly   \n",
      "2                              4-5 time use   \n",
      "3  You have to push the straw in very hard!   \n",
      "4                          Difficult to use   \n",
      "\n",
      "                                              review                star  \\\n",
      "0  Really good for me, with difficulty swallowing...  5.0 out of 5 stars   \n",
      "1  It doesn’t work for me I have no suction my th...  1.0 out of 5 stars   \n",
      "2                           They don’t last too long  3.0 out of 5 stars   \n",
      "3  It helped my sister drink water again after ha...  5.0 out of 5 stars   \n",
      "4                                  Difficult to use.  2.0 out of 5 stars   \n",
      "\n",
      "               Product  \n",
      "0  soupbionixthick.csv  \n",
      "1  soupbionixthick.csv  \n",
      "2  soupbionixthick.csv  \n",
      "3  soupbionixthick.csv  \n",
      "4  soupbionixthick.csv  \n",
      "                                               title  \\\n",
      "0                   Mostly retired rehab nurse here.   \n",
      "1  Frustration for memory patients discourages th...   \n",
      "2                     Doesn’t do the job as expected   \n",
      "3                                Bellow expectations   \n",
      "4                                  Excellent product   \n",
      "\n",
      "                                              review                star  \\\n",
      "0  It's a good tool for someone cognitively intac...  4.0 out of 5 stars   \n",
      "1  Recommended by Speech therapist:The package ca...  2.0 out of 5 stars   \n",
      "2  This device was recommended by a speech therap...  1.0 out of 5 stars   \n",
      "3  is difficult to be the first negative reviewer...  1.0 out of 5 stars   \n",
      "4  Item worked beyond expectations. My aunt can n...  5.0 out of 5 stars   \n",
      "\n",
      "              Product  \n",
      "0  soupbionixthin.csv  \n",
      "1  soupbionixthin.csv  \n",
      "2  soupbionixthin.csv  \n",
      "3  soupbionixthin.csv  \n",
      "4  soupbionixthin.csv  \n",
      "                               title  \\\n",
      "0     Helped make it safer to drink.   \n",
      "1                Works as advertised   \n",
      "2                           Leaks!!!   \n",
      "3  Holds only a few ounces of liquid   \n",
      "4                      Life changer!   \n",
      "\n",
      "                                              review                star  \\\n",
      "0  We had to help my Aunt drink all liquids with ...  5.0 out of 5 stars   \n",
      "1  Wife has dysphagia problems and this device me...  5.0 out of 5 stars   \n",
      "2  This cup has a small hole on the bottom and it...  1.0 out of 5 stars   \n",
      "3  This is only good for someone in terrible cond...  1.0 out of 5 stars   \n",
      "4  It works wonderfully for my granddaughter who ...  5.0 out of 5 stars   \n",
      "\n",
      "         Product  \n",
      "0  soupirije.csv  \n",
      "1  soupirije.csv  \n",
      "2  soupirije.csv  \n",
      "3  soupirije.csv  \n",
      "4  soupirije.csv  \n",
      "                                               title  \\\n",
      "0                           Nutrition Problem Solved   \n",
      "1                                          Lewy Who?   \n",
      "2                        A big help for the bedbound   \n",
      "3                                It really does help   \n",
      "4  Thanks to only two parts is easy to clean and ...   \n",
      "\n",
      "                                              review                star  \\\n",
      "0  I've ordered a total of 4 of these cups. They ...  5.0 out of 5 stars   \n",
      "1  This cup has been great for my brother who has...  5.0 out of 5 stars   \n",
      "2  My father has late stage lung cancer and is no...  5.0 out of 5 stars   \n",
      "3  This is my second order.  I ordered the first ...  5.0 out of 5 stars   \n",
      "4  I have 2 of these for my father who is on hosp...  5.0 out of 5 stars   \n",
      "\n",
      "      Product  \n",
      "0  soupsp.csv  \n",
      "1  soupsp.csv  \n",
      "2  soupsp.csv  \n",
      "3  soupsp.csv  \n",
      "4  soupsp.csv  \n",
      "                                               title  \\\n",
      "0                            Don't waste your money!   \n",
      "1  It is a great idea, and I was hopeful that thi...   \n",
      "2           Works but not for all. Mfg unresponsive.   \n",
      "3                                          Wedge cup   \n",
      "4                                       Works great!   \n",
      "\n",
      "                                              review                star  \\\n",
      "0  I was looking for a device to control the amou...  1.0 out of 5 stars   \n",
      "1  I work as a speech-language pathologist with a...  1.0 out of 5 stars   \n",
      "2  Bought for my wife who has a motor disease, wh...  3.0 out of 5 stars   \n",
      "3                                 Worked as intended  4.0 out of 5 stars   \n",
      "4  Very Pricey, but can't find anything that work...  5.0 out of 5 stars   \n",
      "\n",
      "            Product  \n",
      "0  soupikinsman.csv  \n",
      "1  soupikinsman.csv  \n",
      "2  soupikinsman.csv  \n",
      "3  soupikinsman.csv  \n",
      "4  soupikinsman.csv  \n",
      "                                               title  \\\n",
      "0  Good option for person with swallowing/head ti...   \n",
      "1                  She has very painful hands, wrist   \n",
      "2  This is a good cup for my 92 year old dad who ...   \n",
      "3                                      Dysphagia Cup   \n",
      "4  Excellent cup for those that need help with dr...   \n",
      "\n",
      "                                              review                star  \\\n",
      "0  I bought one of these for my mother who suffer...  4.0 out of 5 stars   \n",
      "1  I bought this mug to help my 80 year old mom w...  5.0 out of 5 stars   \n",
      "2  This is a good cup for my 92 year old dad who ...  5.0 out of 5 stars   \n",
      "3  This is a good example of considered industria...  5.0 out of 5 stars   \n",
      "4  Sturdy plastic cup that won't tip over, thanks...  5.0 out of 5 stars   \n",
      "\n",
      "                 Product  \n",
      "0  soupiweightedbase.csv  \n",
      "1  soupiweightedbase.csv  \n",
      "2  soupiweightedbase.csv  \n",
      "3  soupiweightedbase.csv  \n",
      "4  soupiweightedbase.csv  \n",
      "                                               title  \\\n",
      "0  Great for people who cannot, for whatever reas...   \n",
      "1  She has very bad arthritis throughout her body...   \n",
      "2                                  Excellent producr   \n",
      "3                         Great Cup for Older Adults   \n",
      "4               Excellent solution for hand tremors.   \n",
      "\n",
      "                                              review                star  \\\n",
      "0  My bedridden husband can still drink from cups...  5.0 out of 5 stars   \n",
      "1  I bought this for my mother to try to heat up ...  5.0 out of 5 stars   \n",
      "2  My mom with dementia had a stroke and was havi...  5.0 out of 5 stars   \n",
      "3  We purchased this set of cups for my 87 year o...  5.0 out of 5 stars   \n",
      "4  This works very well for people with hand trem...  5.0 out of 5 stars   \n",
      "\n",
      "                       Product  \n",
      "0  soupindependenceplastic.csv  \n",
      "1  soupindependenceplastic.csv  \n",
      "2  soupindependenceplastic.csv  \n",
      "3  soupindependenceplastic.csv  \n",
      "4  soupindependenceplastic.csv  \n"
     ]
    }
   ],
   "source": [
    "rootdir = 'Amazon_Reviews/'\n",
    "all_reviews = []\n",
    "\n",
    "for subdir, dirs, files in os.walk(rootdir):\n",
    "    for file in files:\n",
    "        df = pd.read_csv(os.path.join(subdir,file))\n",
    "        df[\"Product\"] = np.matlib.repmat(file,df.shape[0],1)\n",
    "        all_reviews.append(df)\n",
    "        print(df.head())\n",
    "all_reviews_df = pd.concat(all_reviews)"
   ]
  },
  {
   "cell_type": "code",
   "execution_count": 23,
   "metadata": {},
   "outputs": [
    {
     "data": {
      "text/html": [
       "<div>\n",
       "<style scoped>\n",
       "    .dataframe tbody tr th:only-of-type {\n",
       "        vertical-align: middle;\n",
       "    }\n",
       "\n",
       "    .dataframe tbody tr th {\n",
       "        vertical-align: top;\n",
       "    }\n",
       "\n",
       "    .dataframe thead th {\n",
       "        text-align: right;\n",
       "    }\n",
       "</style>\n",
       "<table border=\"1\" class=\"dataframe\">\n",
       "  <thead>\n",
       "    <tr style=\"text-align: right;\">\n",
       "      <th></th>\n",
       "      <th>title</th>\n",
       "      <th>review</th>\n",
       "      <th>star</th>\n",
       "      <th>Product</th>\n",
       "    </tr>\n",
       "  </thead>\n",
       "  <tbody>\n",
       "    <tr>\n",
       "      <th>0</th>\n",
       "      <td>Not style pictured, handles made for baby hands.</td>\n",
       "      <td>I also received the cup with the tiny handles ...</td>\n",
       "      <td>1.0 out of 5 stars</td>\n",
       "      <td>soupsammons.csv</td>\n",
       "    </tr>\n",
       "    <tr>\n",
       "      <th>1</th>\n",
       "      <td>Not made for adults</td>\n",
       "      <td>This cup is being sold as an Adult cup, it is ...</td>\n",
       "      <td>1.0 out of 5 stars</td>\n",
       "      <td>soupsammons.csv</td>\n",
       "    </tr>\n",
       "    <tr>\n",
       "      <th>2</th>\n",
       "      <td>Hot Liquids Take on a Strong Plastic Taste</td>\n",
       "      <td>This cup is fine for cold liquids, but if you ...</td>\n",
       "      <td>2.0 out of 5 stars</td>\n",
       "      <td>soupsammons.csv</td>\n",
       "    </tr>\n",
       "    <tr>\n",
       "      <th>3</th>\n",
       "      <td>WASTE OF MONEY</td>\n",
       "      <td>After reading the reviews, only a handful rece...</td>\n",
       "      <td>1.0 out of 5 stars</td>\n",
       "      <td>soupsammons.csv</td>\n",
       "    </tr>\n",
       "    <tr>\n",
       "      <th>4</th>\n",
       "      <td>Useless</td>\n",
       "      <td>This was definitely designed as a kids sippy c...</td>\n",
       "      <td>1.0 out of 5 stars</td>\n",
       "      <td>soupsammons.csv</td>\n",
       "    </tr>\n",
       "    <tr>\n",
       "      <th>...</th>\n",
       "      <td>...</td>\n",
       "      <td>...</td>\n",
       "      <td>...</td>\n",
       "      <td>...</td>\n",
       "    </tr>\n",
       "    <tr>\n",
       "      <th>136</th>\n",
       "      <td>Highly recommend</td>\n",
       "      <td>Great products for the elderly.  Especially on...</td>\n",
       "      <td>5.0 out of 5 stars</td>\n",
       "      <td>soupindependenceplastic.csv</td>\n",
       "    </tr>\n",
       "    <tr>\n",
       "      <th>137</th>\n",
       "      <td>great cup</td>\n",
       "      <td>excellent design.  well constructed.  very hel...</td>\n",
       "      <td>5.0 out of 5 stars</td>\n",
       "      <td>soupindependenceplastic.csv</td>\n",
       "    </tr>\n",
       "    <tr>\n",
       "      <th>138</th>\n",
       "      <td>Safe Cups</td>\n",
       "      <td>My husband feels more confident with his tea a...</td>\n",
       "      <td>5.0 out of 5 stars</td>\n",
       "      <td>soupindependenceplastic.csv</td>\n",
       "    </tr>\n",
       "    <tr>\n",
       "      <th>139</th>\n",
       "      <td>A great adult sippy cup.</td>\n",
       "      <td>A great adult sippy cup.</td>\n",
       "      <td>5.0 out of 5 stars</td>\n",
       "      <td>soupindependenceplastic.csv</td>\n",
       "    </tr>\n",
       "    <tr>\n",
       "      <th>140</th>\n",
       "      <td>The ease of using these cups with Alzheimers/D...</td>\n",
       "      <td>Alzheimer/Dementia patients that I care for.</td>\n",
       "      <td>5.0 out of 5 stars</td>\n",
       "      <td>soupindependenceplastic.csv</td>\n",
       "    </tr>\n",
       "  </tbody>\n",
       "</table>\n",
       "<p>718 rows × 4 columns</p>\n",
       "</div>"
      ],
      "text/plain": [
       "                                                 title  \\\n",
       "0     Not style pictured, handles made for baby hands.   \n",
       "1                                  Not made for adults   \n",
       "2           Hot Liquids Take on a Strong Plastic Taste   \n",
       "3                                       WASTE OF MONEY   \n",
       "4                                              Useless   \n",
       "..                                                 ...   \n",
       "136                                   Highly recommend   \n",
       "137                                          great cup   \n",
       "138                                          Safe Cups   \n",
       "139                           A great adult sippy cup.   \n",
       "140  The ease of using these cups with Alzheimers/D...   \n",
       "\n",
       "                                                review                star  \\\n",
       "0    I also received the cup with the tiny handles ...  1.0 out of 5 stars   \n",
       "1    This cup is being sold as an Adult cup, it is ...  1.0 out of 5 stars   \n",
       "2    This cup is fine for cold liquids, but if you ...  2.0 out of 5 stars   \n",
       "3    After reading the reviews, only a handful rece...  1.0 out of 5 stars   \n",
       "4    This was definitely designed as a kids sippy c...  1.0 out of 5 stars   \n",
       "..                                                 ...                 ...   \n",
       "136  Great products for the elderly.  Especially on...  5.0 out of 5 stars   \n",
       "137  excellent design.  well constructed.  very hel...  5.0 out of 5 stars   \n",
       "138  My husband feels more confident with his tea a...  5.0 out of 5 stars   \n",
       "139                           A great adult sippy cup.  5.0 out of 5 stars   \n",
       "140       Alzheimer/Dementia patients that I care for.  5.0 out of 5 stars   \n",
       "\n",
       "                         Product  \n",
       "0                soupsammons.csv  \n",
       "1                soupsammons.csv  \n",
       "2                soupsammons.csv  \n",
       "3                soupsammons.csv  \n",
       "4                soupsammons.csv  \n",
       "..                           ...  \n",
       "136  soupindependenceplastic.csv  \n",
       "137  soupindependenceplastic.csv  \n",
       "138  soupindependenceplastic.csv  \n",
       "139  soupindependenceplastic.csv  \n",
       "140  soupindependenceplastic.csv  \n",
       "\n",
       "[718 rows x 4 columns]"
      ]
     },
     "execution_count": 23,
     "metadata": {},
     "output_type": "execute_result"
    }
   ],
   "source": [
    "all_reviews_df"
   ]
  },
  {
   "cell_type": "code",
   "execution_count": 24,
   "metadata": {},
   "outputs": [],
   "source": [
    "list_of_products = all_reviews_df.Product.unique()"
   ]
  },
  {
   "cell_type": "code",
   "execution_count": 25,
   "metadata": {},
   "outputs": [
    {
     "data": {
      "text/plain": [
       "array(['soupsammons.csv', 'soupsafestrawthick.csv',\n",
       "       'soupsafestrawthin.csv', 'soupkirimon.csv', 'soupprovale.csv',\n",
       "       'soupbionixthick.csv', 'soupbionixthin.csv', 'soupirije.csv',\n",
       "       'soupsp.csv', 'soupikinsman.csv', 'soupiweightedbase.csv',\n",
       "       'soupindependenceplastic.csv'], dtype=object)"
      ]
     },
     "execution_count": 25,
     "metadata": {},
     "output_type": "execute_result"
    }
   ],
   "source": [
    "list_of_products"
   ]
  },
  {
   "cell_type": "code",
   "execution_count": 31,
   "metadata": {},
   "outputs": [],
   "source": [
    "from textblob import TextBlob\n",
    "import matplotlib.pyplot as plt"
   ]
  },
  {
   "cell_type": "code",
   "execution_count": 40,
   "metadata": {},
   "outputs": [
    {
     "name": "stderr",
     "output_type": "stream",
     "text": [
      "/usr/local/lib/python3.7/site-packages/ipykernel_launcher.py:9: SettingWithCopyWarning: \n",
      "A value is trying to be set on a copy of a slice from a DataFrame.\n",
      "Try using .loc[row_indexer,col_indexer] = value instead\n",
      "\n",
      "See the caveats in the documentation: https://pandas.pydata.org/pandas-docs/stable/user_guide/indexing.html#returning-a-view-versus-a-copy\n",
      "  if __name__ == '__main__':\n",
      "/usr/local/lib/python3.7/site-packages/ipykernel_launcher.py:10: SettingWithCopyWarning: \n",
      "A value is trying to be set on a copy of a slice from a DataFrame.\n",
      "Try using .loc[row_indexer,col_indexer] = value instead\n",
      "\n",
      "See the caveats in the documentation: https://pandas.pydata.org/pandas-docs/stable/user_guide/indexing.html#returning-a-view-versus-a-copy\n",
      "  # Remove the CWD from sys.path while we load stuff.\n"
     ]
    },
    {
     "data": {
      "image/png": "[encoded data removed]",
      "text/plain": [
       "<Figure size 432x288 with 2 Axes>"
      ]
     },
     "metadata": {
      "needs_background": "light"
     },
     "output_type": "display_data"
    },
    {
     "data": {
      "image/png": "[encoded data removed]",
      "text/plain": [
       "<Figure size 432x288 with 1 Axes>"
      ]
     },
     "metadata": {
      "needs_background": "light"
     },
     "output_type": "display_data"
    },
    {
     "data": {
      "image/png": "[encoded data removed]",
      "text/plain": [
       "<Figure size 432x288 with 1 Axes>"
      ]
     },
     "metadata": {
      "needs_background": "light"
     },
     "output_type": "display_data"
    },
    {
     "data": {
      "image/png": "[encoded data removed]",
      "text/plain": [
       "<Figure size 432x288 with 1 Axes>"
      ]
     },
     "metadata": {
      "needs_background": "light"
     },
     "output_type": "display_data"
    },
    {
     "data": {
      "image/png": "[encoded data removed]",
      "text/plain": [
       "<Figure size 432x288 with 1 Axes>"
      ]
     },
     "metadata": {
      "needs_background": "light"
     },
     "output_type": "display_data"
    },
    {
     "data": {
      "image/png": "[encoded data removed]",
      "text/plain": [
       "<Figure size 432x288 with 1 Axes>"
      ]
     },
     "metadata": {
      "needs_background": "light"
     },
     "output_type": "display_data"
    },
    {
     "data": {
      "image/png": "[encoded data removed]",
      "text/plain": [
       "<Figure size 432x288 with 1 Axes>"
      ]
     },
     "metadata": {
      "needs_background": "light"
     },
     "output_type": "display_data"
    },
    {
     "data": {
      "image/png": "[encoded data removed]",
      "text/plain": [
       "<Figure size 432x288 with 1 Axes>"
      ]
     },
     "metadata": {
      "needs_background": "light"
     },
     "output_type": "display_data"
    },
    {
     "data": {
      "image/png": "[encoded data removed]",
      "text/plain": [
       "<Figure size 432x288 with 1 Axes>"
      ]
     },
     "metadata": {
      "needs_background": "light"
     },
     "output_type": "display_data"
    },
    {
     "data": {
      "image/png": "[encoded data removed]",
      "text/plain": [
       "<Figure size 432x288 with 1 Axes>"
      ]
     },
     "metadata": {
      "needs_background": "light"
     },
     "output_type": "display_data"
    },
    {
     "data": {
      "image/png": "[encoded data removed]",
      "text/plain": [
       "<Figure size 432x288 with 1 Axes>"
      ]
     },
     "metadata": {
      "needs_background": "light"
     },
     "output_type": "display_data"
    },
    {
     "data": {
      "image/png": "[encoded data removed]",
      "text/plain": [
       "<Figure size 432x288 with 1 Axes>"
      ]
     },
     "metadata": {
      "needs_background": "light"
     },
     "output_type": "display_data"
    }
   ],
   "source": [
    "fig = plt.figure()\n",
    "c = 1\n",
    "for product in list_of_products:\n",
    "    sub_data_frame = all_reviews_df[all_reviews_df[\"Product\"] == product]\n",
    "#     print(sub_data_frame)\n",
    "    \n",
    "    pol = lambda x: TextBlob(x).sentiment.polarity\n",
    "    sub = lambda x: TextBlob(x).sentiment.subjectivity\n",
    "    sub_data_frame['polarity'] = sub_data_frame['review'].apply(pol)\n",
    "    sub_data_frame['subjectivity'] = sub_data_frame['review'].apply(sub)\n",
    "    \n",
    "    num_bins = 10\n",
    "    n, bins, patches = plt.hist(sub_data_frame.polarity, num_bins, facecolor='blue', alpha=0.5)\n",
    "    plt.xlabel('Polarity')\n",
    "    plt.ylabel('Number of Reviews')\n",
    "    plt.title(product)\n",
    "    fig.add_subplot(4, 3, c)\n",
    "    plt.show()\n",
    "    c = c + 1"
   ]
  },
  {
   "cell_type": "code",
   "execution_count": 38,
   "metadata": {},
   "outputs": [
    {
     "data": {
      "text/plain": [
       "<a list of 10 Patch objects>"
      ]
     },
     "execution_count": 38,
     "metadata": {},
     "output_type": "execute_result"
    }
   ],
   "source": [
    "patches"
   ]
  },
  {
   "cell_type": "code",
   "execution_count": null,
   "metadata": {},
   "outputs": [],
   "source": []
  },
  {
   "cell_type": "code",
   "execution_count": null,
   "metadata": {},
   "outputs": [],
   "source": []
  },
  {
   "cell_type": "code",
   "execution_count": null,
   "metadata": {},
   "outputs": [],
   "source": []
  }
 ],
 "metadata": {
  "kernelspec": {
   "display_name": "Python 3",
   "language": "python",
   "name": "python3"
  },
  "language_info": {
   "codemirror_mode": {
    "name": "ipython",
    "version": 3
   },
   "file_extension": ".py",
   "mimetype": "text/x-python",
   "name": "python",
   "nbconvert_exporter": "python",
   "pygments_lexer": "ipython3",
   "version": "3.7.3"
  }
 },
 "nbformat": 4,
 "nbformat_minor": 2
}
