{
 "cells": [
  {
   "cell_type": "code",
   "execution_count": 2,
   "metadata": {},
   "outputs": [],
   "source": [
    "import scrapy\n",
    "\n",
    "# Create new class that implements spider class\n",
    "class AmazonReviewsSpider(scrapy.Spider):\n",
    "    \n",
    "    # Spider Name:\n",
    "    name = 'amazon_reviews'\n",
    "    \n",
    "    # Domain names to scrape\n",
    "    allowed_domains = ['amazon.in']\n",
    "    \n",
    "    # Base URL for the SafeStraw reviews:\n",
    "    myBaseURL = \"https://www.amazon.com/Bionix-Safestraw-Drinking-Thickened-Liquids/product-reviews/B00L3D2MY0/ref=cm_cr_arp_d_paging_btm_next_2?ie=UTF8&reviewerType=all_reviews&pageNumber=\"\n",
    "    all_urls = []\n",
    "    \n",
    "    # Create list of all page URLs\n",
    "    for i in range(2):\n",
    "        all_urls.append(myBaseURL + str(i))\n",
    "    \n",
    "    def parse(self,response):\n",
    "        data = response.css('#cm_cr-review_list')\n",
    "        \n",
    "        # Collect product star ratings\n",
    "        star_rating = data.css('.review-rating')\n",
    "        \n",
    "        # Collecting user review\n",
    "        comments = data.css('.review-text')\n",
    "        count = 0\n",
    "        \n",
    "        # Combining results\n",
    "        for review in star_rating:\n",
    "            yield{'stars': ''.join(review.xpath('.//text()').extract()),\n",
    "                      'comment': ''.join(comments[count].xpath(\".//text()\").extract())\n",
    "                     }\n",
    "            count=count+1"
   ]
  },
  {
   "cell_type": "code",
   "execution_count": null,
   "metadata": {},
   "outputs": [],
   "source": [
    "import scrapy\n",
    "\n",
    "\n",
    "class ScrapeAmazonReviewSpider(scrapy.Spider):\n",
    "    name = 'scrape_amazon_review'\n",
    "    allowed_domains = ['https://www.amazon.com/Bionix-Safestraw-Drinking-Thickened-Liquids/product-reviews/B00L3D2MY0/ref=cm_cr_arp_d_paging_btm_next_2?ie=UTF8']\n",
    "\n",
    "    # myBaseURL = \"https://www.amazon.com/Bionix-Safestraw-Drinking-Thickened-Liquids/product-reviews/B00L3D2MY0/ref=cm_cr_arp_d_paging_btm_next_2?ie=UTF8&reviewerType=all_reviews&pageNumber=\"\n",
    "    # start_urls = []\n",
    "    \n",
    "    # # Create list of all page URLs\n",
    "    # for i in range(1,2):\n",
    "    #     start_urls.append(myBaseURL + str(i))\n",
    "\n",
    "    start_urls=[\"https://www.amazon.com/Bionix-Safestraw-Drinking-Thickened-Liquids/product-reviews/B00L3D2MY0/ref=cm_cr_dp_d_show_all_btm?ie=UTF8&reviewerType=all_reviews\",\"https://www.amazon.com/Bionix-Safestraw-Drinking-Thickened-Liquids/product-reviews/B00L3D2MY0/ref=cm_cr_arp_d_paging_btm_next_2?ie=UTF8&reviewerType=all_reviews&pageNumber=2\"]\n",
    "    \n",
    "    def parse(self, response):\n",
    "        data = response.css('#cm_cr-review_list')\n",
    "        \n",
    "        # Collect product star ratings\n",
    "        star_rating = data.css('.review-rating')\n",
    "        \n",
    "        # Collecting user review\n",
    "        comments = data.css('.review-text')\n",
    "        count = 0\n",
    "        \n",
    "        # Combining results\n",
    "        for review in star_rating:\n",
    "            yield{'stars': ''.join(review.xpath('.//text()').extract()),\n",
    "                      'comment': ''.join(comments[count].xpath(\".//text()\").extract())\n",
    "                     }\n",
    "            count=count+1"
   ]
  }
 ],
 "metadata": {
  "kernelspec": {
   "display_name": "Python 3",
   "language": "python",
   "name": "python3"
  },
  "language_info": {
   "codemirror_mode": {
    "name": "ipython",
    "version": 3
   },
   "file_extension": ".py",
   "mimetype": "text/x-python",
   "name": "python",
   "nbconvert_exporter": "python",
   "pygments_lexer": "ipython3",
   "version": "3.7.3"
  }
 },
 "nbformat": 4,
 "nbformat_minor": 2
}
